{
 "cells": [
  {
   "cell_type": "markdown",
   "metadata": {},
   "source": [
    "# Advanced Topics in Distributed System (CE7490)\n",
    "\n",
    "### Implementing algorithms discussed in Least Cost Rumor Blocking in Social Networks\n",
    "#### By Lidan Fan*, Zaixin Lu*, Weili Wu*, Bhavani Thuraisingham*, Huan Ma†, and Yuanjun Bi\n",
    "\n",
    "Done by: Amarildo Alberto Come, Elise Auvray, and Remi Boukheloua"
   ]
  },
  {
   "cell_type": "code",
   "execution_count": 1,
   "metadata": {},
   "outputs": [],
   "source": [
    "#pip install python-louvain. If pip not found / working, use conda install pip\n",
    "import community as cmy\n",
    "import networkx as nx\n",
    "\n",
    "from collections import defaultdict\n",
    "\n",
    "import numpy as np\n",
    "import random\n",
    "\n",
    "import operator"
   ]
  },
  {
   "cell_type": "markdown",
   "metadata": {},
   "source": [
    "# Set up of the simulation"
   ]
  },
  {
   "cell_type": "code",
   "execution_count": 2,
   "metadata": {},
   "outputs": [],
   "source": [
    "#Dataset to use Enron email or Hep\n",
    "datasetToUse = \"Enron\" #Enron or Hep\n",
    "\n",
    "#Approximate size of the community we want to have rumor spread from\n",
    "#We will pick the community with the closest size if we don't find it exactly\n",
    "wantedSize = 2600\n",
    "#%age of nodes in the community that will spread rumors\n",
    "rumorProportion = 0.05\n"
   ]
  },
  {
   "cell_type": "markdown",
   "metadata": {},
   "source": [
    "### Structure of our network (Graph):"
   ]
  },
  {
   "cell_type": "code",
   "execution_count": 3,
   "metadata": {},
   "outputs": [],
   "source": [
    "class Graph: \n",
    "\n",
    "\t# Constructor \n",
    "\tdef __init__(self): \n",
    "\t\t# default dictionary to store graph \n",
    "\t\tself.graph = defaultdict(list) \n",
    "\t\t#to count number of nodes\n",
    "\t\tself.control=set()\n",
    "\t# function to add an edge to graph \n",
    "\tdef addEdge(self,u,v):\n",
    "\t\t#just for testing...should be removed...nodes will be counted from file\n",
    "\t\tif u not in self.control:\n",
    "\t\t\tself.control.add(u)\n",
    "\t\tif v not in self.control:\n",
    "\t\t\tself.control.add(v)\n",
    "\t\tself.graph[u].append(v) "
   ]
  },
  {
   "cell_type": "markdown",
   "metadata": {},
   "source": [
    "### To find Bridge Ends"
   ]
  },
  {
   "cell_type": "code",
   "execution_count": 4,
   "metadata": {},
   "outputs": [],
   "source": [
    "def BFS(graph, s,community):\n",
    "    edge_ends=[] #our desired output\n",
    "    visited=[]\n",
    "    #number of nodes should not be fixed\n",
    "    visited = dict()\n",
    "    \n",
    "    for i in g.control:\n",
    "        visited[i] = False\n",
    "    \n",
    "    #Number of nodes in grapth\n",
    "    #print(len(graph.control))\n",
    "    #get the graph per si\n",
    "    graph=graph.graph\n",
    "    # Create a queue for BFS \n",
    "    queue = [] \n",
    "\n",
    "    # Mark the source node as \n",
    "    # visited and enqueue it \n",
    "    for i in s:\n",
    "        queue.append(i) \n",
    "        visited[i] = True\n",
    "\n",
    "    while queue: \n",
    "\n",
    "        # Dequeue a vertex from queue\n",
    "        s = queue.pop(0) \n",
    "\n",
    "        # Get all adjacent vertices of the \n",
    "        # dequeued vertex s. If a adjacent is from the community \n",
    "        # and has not been visited, then mark it \n",
    "        # visited and enqueue it otherwise just mark it as visited and add to edges vetor\n",
    "        for i in graph[s]:\n",
    "            if i in community:\n",
    "                if visited[i] == False:\n",
    "                    queue.append(i) \n",
    "                    visited[i] = True\n",
    "            else:\n",
    "                if visited[i] == False:\n",
    "                    visited[i] = True\n",
    "                    edge_ends.append(i)\n",
    "    return edge_ends\n",
    "\n",
    "\n",
    "#basic function to find all paths between 2 nodes\t\n",
    "def find_all_paths(graph, start, end, path=[]):\n",
    "    path = path + [start]\n",
    "    if start == end:\n",
    "        return [path]\n",
    "    if start not in graph:\n",
    "        return []\n",
    "    paths = []\n",
    "    for node in graph[start]:\n",
    "        if node not in path:\n",
    "            newpaths = find_all_paths(graph, node, end, path)\n",
    "            for newpath in newpaths:\n",
    "                paths.append(newpath)\n",
    "    return paths\n"
   ]
  },
  {
   "cell_type": "markdown",
   "metadata": {},
   "source": [
    "### Import of data and Graph Creation"
   ]
  },
  {
   "cell_type": "code",
   "execution_count": 5,
   "metadata": {},
   "outputs": [],
   "source": [
    "g = Graph() \n",
    "if datasetToUse == \"Enron\":\n",
    "    emailEnron = np.loadtxt(\"Email-Enron.txt\")\n",
    "    for i in emailEnron:\n",
    "        g.addEdge(int(i[0]),int(i[1]))\n",
    "elif datasetToUse == \"Hep\":\n",
    "    hepPh = np.loadtxt(\"CA-HepPh.txt\") \n",
    "    for i in hepPh:\n",
    "        g.addEdge(int(i[0]),int(i[1]))"
   ]
  },
  {
   "cell_type": "markdown",
   "metadata": {},
   "source": [
    "### Finding communities using Louvain's Method\n",
    "\n",
    "Using : [25] V. D. Blondel, J. Guillaume, R. Lambiotte and E. Lefebvre, Fast unfolding of communities in large networks. J. Stat.\n",
    "Mech.: Theory and Experiment, 2008"
   ]
  },
  {
   "cell_type": "code",
   "execution_count": 6,
   "metadata": {},
   "outputs": [],
   "source": [
    "def getLouvainCommunities(g): \n",
    "    G=nx.Graph(g.graph)\n",
    "    communities = cmy.best_partition(G)\n",
    "    c = [ [] for i in range(len(set(communities.values()))) ]\n",
    "    for i in communities.keys():\n",
    "        c[communities[i]].append(i)\n",
    "    return c"
   ]
  },
  {
   "cell_type": "code",
   "execution_count": 7,
   "metadata": {},
   "outputs": [],
   "source": [
    "#Getting communities set\n",
    "community = getLouvainCommunities(g)"
   ]
  },
  {
   "cell_type": "markdown",
   "metadata": {},
   "source": [
    "### Finding Bridge Ends"
   ]
  },
  {
   "cell_type": "code",
   "execution_count": 8,
   "metadata": {},
   "outputs": [],
   "source": [
    "index = np.argmin([abs(len(community[i]) - wantedSize) for i in range(len(community))])\n",
    "\n",
    "#here for simplicity i use only one rumor node (easy to fix)\n",
    "Srumor=random.choices(community[index], k=int(rumorProportion * len(community[index])))\n",
    "\n",
    "#run the customized BFS function on the graph\n",
    "\n",
    "bridgeEnds = BFS(g, Srumor, community[index])\n",
    "\n",
    "#print my output = the edge ends neighbour communities\n",
    "#print (bridgeEnds)\n",
    "\n",
    "#print the Paths from the rumor to each edge end\n",
    "#for end in edge_ends:\n",
    "\t#paths=find_all_paths(g.graph,rumor,end)\n",
    "\t#print(end)"
   ]
  },
  {
   "cell_type": "code",
   "execution_count": 9,
   "metadata": {},
   "outputs": [
    {
     "name": "stdout",
     "output_type": "stream",
     "text": [
      "Community Size: 2777\n",
      "Percentage of the community in Sr: 0.05 which means 138 persons\n"
     ]
    }
   ],
   "source": [
    "print(\"Community Size:\", len(community[index]))\n",
    "print(\"Percentage of the community in Sr:\", rumorProportion, \"which means\", int(rumorProportion * len(community[index])), \"persons\")"
   ]
  },
  {
   "cell_type": "markdown",
   "metadata": {},
   "source": [
    "### Backward Trees and finding the candidates to be protectors"
   ]
  },
  {
   "cell_type": "code",
   "execution_count": 10,
   "metadata": {},
   "outputs": [],
   "source": [
    "def findParents(graph, node):\n",
    "    listOfParents = []\n",
    "    for i in graph.keys():\n",
    "        if node in graph[i]:\n",
    "            listOfParents.append(i)\n",
    "    return listOfParents\n"
   ]
  },
  {
   "cell_type": "code",
   "execution_count": 11,
   "metadata": {},
   "outputs": [],
   "source": [
    "def backwardTree(graph, bridgeEnd, rumors):\n",
    "    tree = [[bridgeEnd]]\n",
    "    visited = [bridgeEnd]\n",
    "    findOneRumor = False\n",
    "    while not findOneRumor:\n",
    "        nbElement = len(tree)\n",
    "        for i in range(nbElement):\n",
    "            branch = tree.pop(0)\n",
    "            listOfParents = findParents(g.graph, branch[-1])\n",
    "            for parent in listOfParents:\n",
    "                if parent not in visited:\n",
    "                    tree.append(branch + [parent])\n",
    "                    visited.append(parent)\n",
    "                    findOneRumor = findOneRumor or (parent in rumors)\n",
    "    return visited, tree\n",
    "\n",
    "def protectorCandidateSets(tree, rumors):\n",
    "    candidateSet = []\n",
    "    for branch in tree:\n",
    "        candidateSet += branch\n",
    "    candidateSet = set(candidateSet).difference(set(rumors))\n",
    "    return candidateSet\n",
    "    "
   ]
  },
  {
   "cell_type": "code",
   "execution_count": 12,
   "metadata": {},
   "outputs": [],
   "source": [
    "def backwardTree2(graph, bridgeEnd, rumors):\n",
    "    fifoQ = [bridgeEnd]\n",
    "    visited = [bridgeEnd]\n",
    "    findOneRumor = False\n",
    "    while not findOneRumor and len(fifoQ) != 0:\n",
    "        branch = fifoQ.pop(0)\n",
    "        listOfParents = findParents(g.graph, branch)\n",
    "        for parent in listOfParents:\n",
    "            if parent not in visited:\n",
    "                fifoQ.append(parent)\n",
    "                visited.append(parent)\n",
    "                findOneRumor = findOneRumor or (parent in rumors)\n",
    "    return visited"
   ]
  },
  {
   "cell_type": "code",
   "execution_count": 13,
   "metadata": {},
   "outputs": [
    {
     "name": "stdout",
     "output_type": "stream",
     "text": [
      "10.0 % - Done\n",
      "20.0 % - Done\n",
      "30.0 % - Done\n",
      "40.0 % - Done\n",
      "50.0 % - Done\n",
      "60.0 % - Done\n",
      "70.0 % - Done\n",
      "80.0 % - Done\n",
      "90.0 % - Done\n",
      "100.0% - Done\n"
     ]
    }
   ],
   "source": [
    "candidates = dict()\n",
    "tmp = 0\n",
    "\n",
    "for bridge in bridgeEnds:\n",
    "    tmp += 1\n",
    "    visited = backwardTree2(g.graph, bridge, Srumor)\n",
    "    pCandidates = set(visited).difference(set(Srumor))\n",
    "    #pCandidates = protectorCandidateSets(visited, Srumor)\n",
    "\n",
    "    for i in pCandidates:\n",
    "        if i not in candidates.keys():\n",
    "            candidates[i] = []\n",
    "        candidates[i].append(bridge)\n",
    "    \n",
    "    \n",
    "    if tmp%int(len(bridgeEnds)/10 + 1) == 0:\n",
    "        print(tmp/int(len(bridgeEnds)/10 + 1)*10, \"% - Done\")\n",
    "\n",
    "print(\"100.0% - Done\")"
   ]
  },
  {
   "cell_type": "markdown",
   "metadata": {},
   "source": [
    "### Picking protectors with Greedy Algorithm"
   ]
  },
  {
   "cell_type": "code",
   "execution_count": 14,
   "metadata": {},
   "outputs": [],
   "source": [
    "Sp = []\n",
    "PB = []\n",
    "\n",
    "maxProtection = 0\n",
    "while len(PB) != len(bridgeEnds):\n",
    "    choosenCandidate = 0\n",
    "    for i in candidates.keys():\n",
    "        protection = len(set(PB + candidates[i]))\n",
    "        if protection > maxProtection:\n",
    "            maxProtection = protection\n",
    "            choosenCandidate = i\n",
    "    Sp.append(choosenCandidate)\n",
    "    PB = list(set(PB + candidates[choosenCandidate]))\n",
    "    candidates.pop(choosenCandidate)"
   ]
  },
  {
   "cell_type": "markdown",
   "metadata": {},
   "source": [
    "### Others algorithms"
   ]
  },
  {
   "cell_type": "markdown",
   "metadata": {},
   "source": [
    "#### MaxDegree\n",
    "\n",
    "A basic algorithm, which simply chooses the nodes according to the decreasing order of node (out) degree as the protectors."
   ]
  },
  {
   "cell_type": "code",
   "execution_count": 15,
   "metadata": {},
   "outputs": [],
   "source": [
    "outDegree = dict()\n",
    "for i in g.graph.keys():\n",
    "    outDegree[i] = len(set(g.graph[i]))  #.intersection(bridgeEnds))\n",
    "SpMaxDegree = []\n",
    "PBMaxDegree = []\n",
    "while len(PBMaxDegree) != len(bridgeEnds):\n",
    "    newProtector = max(outDegree.items(), key=operator.itemgetter(1))[0]\n",
    "    SpMaxDegree.append(newProtector)\n",
    "    protectedBridges = set(g.graph[newProtector] + [newProtector]).intersection(bridgeEnds)\n",
    "    PBMaxDegree = list(set(PBMaxDegree + list(protectedBridges)))\n",
    "    #print(len(PBMaxDegree), newProtector, outDegree[newProtector])\n",
    "    del outDegree[newProtector]"
   ]
  },
  {
   "cell_type": "markdown",
   "metadata": {},
   "source": [
    "#### Proximity (WIP)\n",
    "A simple heuristic algorithm, in which the direct out-neighbors of rumors are chosen as the protectors.\n",
    "We exclude random algorithm due to its poor performance. Instead, a NoBlocking line is included to reflect the performance of these algorithms."
   ]
  },
  {
   "cell_type": "code",
   "execution_count": 16,
   "metadata": {},
   "outputs": [],
   "source": [
    "SpProximity = []\n",
    "for r in Srumor:\n",
    "    SpProximity += g.graph[r]\n",
    "\n",
    "SpProximity = list(set(SpProximity))"
   ]
  },
  {
   "cell_type": "markdown",
   "metadata": {},
   "source": [
    "### Results"
   ]
  },
  {
   "cell_type": "code",
   "execution_count": 17,
   "metadata": {},
   "outputs": [
    {
     "name": "stdout",
     "output_type": "stream",
     "text": [
      "Community Size: 2777\n",
      "Percentage of the community in Sr: 0.05 which means 138 persons\n",
      "Nb of bridge ends: 2192\n"
     ]
    }
   ],
   "source": [
    "print(\"Community Size:\", len(community[index]))\n",
    "print(\"Percentage of the community in Sr:\", rumorProportion, \"which means\", int(rumorProportion * len(community[index])), \"persons\")\n",
    "print(\"Nb of bridge ends:\", len(bridgeEnds))"
   ]
  },
  {
   "cell_type": "markdown",
   "metadata": {},
   "source": [
    "##### Greedy Algorithm:"
   ]
  },
  {
   "cell_type": "code",
   "execution_count": 18,
   "metadata": {},
   "outputs": [
    {
     "name": "stdout",
     "output_type": "stream",
     "text": [
      "Nb of candidates to be protectors: 28301\n",
      "Nb of protector recquired: 36\n"
     ]
    }
   ],
   "source": [
    "print(\"Nb of candidates to be protectors:\", len(candidates) + len(Sp))\n",
    "print(\"Nb of protector recquired:\", len(Sp))"
   ]
  },
  {
   "cell_type": "markdown",
   "metadata": {},
   "source": [
    "##### MaxDegree"
   ]
  },
  {
   "cell_type": "code",
   "execution_count": 19,
   "metadata": {},
   "outputs": [
    {
     "name": "stdout",
     "output_type": "stream",
     "text": [
      "Nb of protector found: 6988\n"
     ]
    }
   ],
   "source": [
    "print(\"Nb of protector found:\", len(SpMaxDegree))"
   ]
  },
  {
   "cell_type": "markdown",
   "metadata": {},
   "source": [
    "##### Proximity"
   ]
  },
  {
   "cell_type": "code",
   "execution_count": 20,
   "metadata": {},
   "outputs": [
    {
     "name": "stdout",
     "output_type": "stream",
     "text": [
      "Nb of protector found: 1073\n"
     ]
    }
   ],
   "source": [
    "print(\"Nb of protector found:\", len(SpProximity))"
   ]
  },
  {
   "cell_type": "markdown",
   "metadata": {},
   "source": [
    "#### Curves"
   ]
  },
  {
   "cell_type": "code",
   "execution_count": 21,
   "metadata": {},
   "outputs": [],
   "source": [
    "import matplotlib.pyplot as plt"
   ]
  },
  {
   "cell_type": "code",
   "execution_count": 22,
   "metadata": {},
   "outputs": [],
   "source": [
    "def createCurve(nbProtector, setProtector, setRumor, graph):\n",
    "    networkStatus = dict()\n",
    "    toVisit = []\n",
    "    visited = []\n",
    "\n",
    "    Protectors = setProtector[:min(nbProtector, len(setProtector))]\n",
    "    RumorOrigin = setRumor\n",
    "\n",
    "    for i in Protectors:\n",
    "        networkStatus[i] = (\"P\",1)\n",
    "        toVisit.append(i)\n",
    "\n",
    "    for i in RumorOrigin:\n",
    "        networkStatus[i] = (\"I\",1)\n",
    "        toVisit.append(i)\n",
    "\n",
    "    while len(toVisit) != 0:\n",
    "        i = toVisit.pop(0)\n",
    "        visited.append(i)\n",
    "        for direction in graph[i]:\n",
    "            if direction not in visited:\n",
    "                if direction in networkStatus.keys() and networkStatus[i][1] < networkStatus[direction][1]:\n",
    "                    networkStatus[direction] = (max(networkStatus[i][0],networkStatus[direction][0]), networkStatus[i][1] + 1)\n",
    "                elif direction not in networkStatus.keys(): \n",
    "                    networkStatus[direction] = (networkStatus[i][0], networkStatus[i][1]+1)\n",
    "                if direction not in toVisit: toVisit.append(direction)\n",
    "\n",
    "    maxHop = 0\n",
    "    for i in networkStatus.keys():\n",
    "        maxHop = max(maxHop, networkStatus[i][1])\n",
    "\n",
    "    infectedPerHop = [0 for i in range(maxHop+1)]\n",
    "    protectedPerHop = [0 for i in range(maxHop+1)]\n",
    "    for i in networkStatus.keys():\n",
    "        if networkStatus[i][0] == \"P\":\n",
    "            protectedPerHop[networkStatus[i][1]] += 1\n",
    "        else:\n",
    "            infectedPerHop[networkStatus[i][1]] += 1\n",
    "\n",
    "    for i in range(1,maxHop+1):\n",
    "        infectedPerHop[i] += infectedPerHop[i-1]\n",
    "        protectedPerHop[i] += protectedPerHop[i-1]\n",
    "    \n",
    "    return maxHop, infectedPerHop, protectedPerHop"
   ]
  },
  {
   "cell_type": "code",
   "execution_count": 23,
   "metadata": {},
   "outputs": [],
   "source": [
    "nbProtector = 52"
   ]
  },
  {
   "cell_type": "markdown",
   "metadata": {},
   "source": [
    "No protector"
   ]
  },
  {
   "cell_type": "code",
   "execution_count": 24,
   "metadata": {},
   "outputs": [],
   "source": [
    "maxHopNoProtection, infectedPerHopNoProtection, protectedPerHopNoProtection = createCurve(nbProtector, [], Srumor, g.graph)"
   ]
  },
  {
   "cell_type": "code",
   "execution_count": 25,
   "metadata": {
    "scrolled": true
   },
   "outputs": [
    {
     "data": {
      "image/png": "[encoded data removed]",
      "text/plain": [
       "<Figure size 432x288 with 1 Axes>"
      ]
     },
     "metadata": {
      "needs_background": "light"
     },
     "output_type": "display_data"
    }
   ],
   "source": [
    "plt.yscale(\"log\")\n",
    "plt.plot([i for i in range(1,maxHopNoProtection+1)], infectedPerHopNoProtection[1:maxHopNoProtection+1], 'r')\n",
    "plt.title('Infected nodes')\n",
    "plt.show()"
   ]
  },
  {
   "cell_type": "markdown",
   "metadata": {},
   "source": [
    "SCBG"
   ]
  },
  {
   "cell_type": "code",
   "execution_count": 26,
   "metadata": {},
   "outputs": [],
   "source": [
    "maxHopSCBG , infectedPerHopSCBG , protectedPerHopSCBG = createCurve(nbProtector, Sp, Srumor, g.graph)"
   ]
  },
  {
   "cell_type": "code",
   "execution_count": 27,
   "metadata": {},
   "outputs": [
    {
     "data": {
      "image/png": "[encoded data removed]",
      "text/plain": [
       "<Figure size 432x288 with 1 Axes>"
      ]
     },
     "metadata": {
      "needs_background": "light"
     },
     "output_type": "display_data"
    }
   ],
   "source": [
    "plt.yscale(\"log\")\n",
    "plt.plot([i for i in range(1,maxHopSCBG+1)], protectedPerHopSCBG[1:maxHopSCBG+1], 'b')\n",
    "plt.plot([i for i in range(1,maxHopSCBG+1)], infectedPerHopSCBG[1:maxHopSCBG+1], 'r')\n",
    "plt.title('Infected nodes (r) vs Protected nodes (b)')\n",
    "plt.show()"
   ]
  },
  {
   "cell_type": "markdown",
   "metadata": {},
   "source": [
    "Max Degree"
   ]
  },
  {
   "cell_type": "code",
   "execution_count": 28,
   "metadata": {},
   "outputs": [],
   "source": [
    "maxHopMaxDegree , infectedPerHopMaxDegree , protectedPerHopMaxDegree = createCurve(nbProtector, SpMaxDegree, Srumor, g.graph)"
   ]
  },
  {
   "cell_type": "code",
   "execution_count": 29,
   "metadata": {},
   "outputs": [
    {
     "data": {
      "image/png": "[encoded data removed]",
      "text/plain": [
       "<Figure size 432x288 with 1 Axes>"
      ]
     },
     "metadata": {
      "needs_background": "light"
     },
     "output_type": "display_data"
    }
   ],
   "source": [
    "plt.yscale(\"log\")\n",
    "plt.plot([i for i in range(1,maxHopSCBG+1)], protectedPerHopMaxDegree[1:maxHopSCBG+1], 'b')\n",
    "plt.plot([i for i in range(1,maxHopSCBG+1)], infectedPerHopMaxDegree[1:maxHopSCBG+1], 'r')\n",
    "plt.title('Infected nodes (r) vs Protected nodes (b)')\n",
    "plt.show()"
   ]
  },
  {
   "cell_type": "markdown",
   "metadata": {},
   "source": [
    "Proximity"
   ]
  },
  {
   "cell_type": "code",
   "execution_count": 30,
   "metadata": {},
   "outputs": [],
   "source": [
    "maxHopProximity , infectedPerHopProximity , protectedPerHopProximity = createCurve(nbProtector, SpProximity, Srumor, g.graph)"
   ]
  },
  {
   "cell_type": "code",
   "execution_count": 31,
   "metadata": {},
   "outputs": [
    {
     "data": {
      "image/png": "[encoded data removed]",
      "text/plain": [
       "<Figure size 432x288 with 1 Axes>"
      ]
     },
     "metadata": {
      "needs_background": "light"
     },
     "output_type": "display_data"
    }
   ],
   "source": [
    "plt.yscale(\"log\")\n",
    "plt.plot([i for i in range(1,maxHopProximity+1)], protectedPerHopProximity[1:maxHopProximity+1], 'b')\n",
    "plt.plot([i for i in range(1,maxHopProximity+1)], infectedPerHopProximity[1:maxHopProximity+1], 'r')\n",
    "plt.title('Infected nodes (r) vs Protected nodes (b)')\n",
    "plt.show()"
   ]
  },
  {
   "cell_type": "markdown",
   "metadata": {},
   "source": [
    "##### Compilation"
   ]
  },
  {
   "cell_type": "code",
   "execution_count": 32,
   "metadata": {},
   "outputs": [],
   "source": [
    "for i in range(20 - len(infectedPerHopSCBG)):\n",
    "    infectedPerHopSCBG.append(infectedPerHopSCBG[-1])\n",
    "for i in range(20 - len(infectedPerHopMaxDegree)):\n",
    "    infectedPerHopMaxDegree.append(infectedPerHopMaxDegree[-1])\n",
    "for i in range(20 - len(infectedPerHopNoProtection)):\n",
    "    infectedPerHopNoProtection.append(infectedPerHopNoProtection[-1])\n",
    "for i in range(20 - len(infectedPerHopProximity)):\n",
    "    infectedPerHopProximity.append(infectedPerHopProximity[-1])"
   ]
  },
  {
   "cell_type": "code",
   "execution_count": 33,
   "metadata": {},
   "outputs": [
    {
     "data": {
      "image/png": "[encoded data removed]",
      "text/plain": [
       "<Figure size 432x288 with 1 Axes>"
      ]
     },
     "metadata": {
      "needs_background": "light"
     },
     "output_type": "display_data"
    }
   ],
   "source": [
    "plt.yscale(\"log\")\n",
    "#plt.plot([i for i in range(1,maxHop+1)], protectedPerHop[:-1], 'b')\n",
    "l1 = plt.plot([i for i in range(1,20)], infectedPerHopSCBG[1:20], 'b')\n",
    "l2 = plt.plot([i for i in range(1,20)], infectedPerHopMaxDegree[1:20], 'g')\n",
    "l3 = plt.plot([i for i in range(1,20)], infectedPerHopProximity[1:20], 'black')\n",
    "l4 = plt.plot([i for i in range(1,20)], infectedPerHopNoProtection[1:20], 'r')\n",
    "plt.legend((l1[0], l2[0], l3[0], l4[0]), ('SCBG', 'Max Degree', 'Proximity', 'No Protection'))\n",
    "plt.title('Infected nodes')\n",
    "plt.show()"
   ]
  }
 ],
 "metadata": {
  "kernelspec": {
   "display_name": "Python 3",
   "language": "python",
   "name": "python3"
  },
  "language_info": {
   "codemirror_mode": {
    "name": "ipython",
    "version": 3
   },
   "file_extension": ".py",
   "mimetype": "text/x-python",
   "name": "python",
   "nbconvert_exporter": "python",
   "pygments_lexer": "ipython3",
   "version": "3.7.4"
  }
 },
 "nbformat": 4,
 "nbformat_minor": 2
}
